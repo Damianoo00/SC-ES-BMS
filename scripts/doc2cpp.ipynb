{
 "cells": [
  {
   "cell_type": "code",
   "execution_count": 2,
   "metadata": {},
   "outputs": [],
   "source": [
    "import tabula\n",
    "import numpy as np\n",
    "import pandas as pd\n",
    "import PyPDF2"
   ]
  },
  {
   "cell_type": "code",
   "execution_count": 3,
   "metadata": {},
   "outputs": [],
   "source": [
    "file1 = \"../doc/BMS.pdf\""
   ]
  },
  {
   "cell_type": "code",
   "execution_count": 13,
   "metadata": {},
   "outputs": [
    {
     "name": "stdout",
     "output_type": "stream",
     "text": [
      "59 48\n"
     ]
    }
   ],
   "source": [
    "registers_map = []\n",
    "registers_bit = []\n",
    "\n",
    "table_list = tabula.read_pdf(file1, pages='1-131')\n",
    "for table in table_list:\n",
    "    if \"ADDRESS\" in table.head() and \"POR\" in table.head() and \"NAME\" in table.head() and \"DESCRIPTION\" in table.head():\n",
    "        registers_map.append(table.astype('string'))\n",
    "    if \"BIT\" in table.head() and \"POR\" in table.head() and \"NAME\" in table.head() and \"DESCRIPTION\" in table.head():\n",
    "        table = table.astype('string')\n",
    "        table = table[table[\"NAME\"] != \"<NA>\"]\n",
    "        registers_bit.append(table)\n",
    "registers_map = pd.concat(registers_map)\n",
    "print(str(len(registers_map)) + \" \"+str(len(registers_bit)))"
   ]
  },
  {
   "cell_type": "code",
   "execution_count": 18,
   "metadata": {},
   "outputs": [
    {
     "ename": "IndexError",
     "evalue": "list index out of range",
     "output_type": "error",
     "traceback": [
      "\u001b[1;31m---------------------------------------------------------------------------\u001b[0m",
      "\u001b[1;31mIndexError\u001b[0m                                Traceback (most recent call last)",
      "\u001b[1;32m~\\AppData\\Local\\TEMP_~1/ipykernel_15008/1556054512.py\u001b[0m in \u001b[0;36m<module>\u001b[1;34m\u001b[0m\n\u001b[0;32m     13\u001b[0m             \u001b[0mBMS_lib\u001b[0m\u001b[1;33m.\u001b[0m\u001b[0mwrite\u001b[0m\u001b[1;33m(\u001b[0m\u001b[1;34m\"{\\n\"\u001b[0m\u001b[1;33m)\u001b[0m\u001b[1;33m\u001b[0m\u001b[1;33m\u001b[0m\u001b[0m\n\u001b[0;32m     14\u001b[0m             \u001b[1;32mfor\u001b[0m \u001b[0m_\u001b[0m\u001b[1;33m,\u001b[0m \u001b[0mbit_row\u001b[0m \u001b[1;32min\u001b[0m \u001b[0mregisters_bit\u001b[0m\u001b[1;33m[\u001b[0m\u001b[0mindex\u001b[0m\u001b[1;33m]\u001b[0m\u001b[1;33m.\u001b[0m\u001b[0miterrows\u001b[0m\u001b[1;33m(\u001b[0m\u001b[1;33m)\u001b[0m\u001b[1;33m:\u001b[0m\u001b[1;33m\u001b[0m\u001b[1;33m\u001b[0m\u001b[0m\n\u001b[1;32m---> 15\u001b[1;33m                 \u001b[0mBMS_lib\u001b[0m\u001b[1;33m.\u001b[0m\u001b[0mwrite\u001b[0m\u001b[1;33m(\u001b[0m\u001b[1;34mf\"#define {bit_row['NAME'].split('[')[0]}_BIT VERSION[{int(bit_row['BIT'].replace('D', '')) - int(bit_row['NAME'].split('[')[1].split(':')[0])}] //{bit_row['DESCRIPTION']}\\n\"\u001b[0m\u001b[1;33m)\u001b[0m\u001b[1;33m\u001b[0m\u001b[1;33m\u001b[0m\u001b[0m\n\u001b[0m\u001b[0;32m     16\u001b[0m                 \u001b[0mBMS_lib\u001b[0m\u001b[1;33m.\u001b[0m\u001b[0mwrite\u001b[0m\u001b[1;33m(\u001b[0m\u001b[1;34mf\"#define {bit_row['NAME'].split('[')[0]}_LENGTH {int(bit_row['NAME'].split('[')[1].split(':')[0])}\"\u001b[0m\u001b[1;33m)\u001b[0m\u001b[1;33m\u001b[0m\u001b[1;33m\u001b[0m\u001b[0m\n\u001b[0;32m     17\u001b[0m                 \u001b[0mBMS_lib\u001b[0m\u001b[1;33m.\u001b[0m\u001b[0mwrite\u001b[0m\u001b[1;33m(\u001b[0m\u001b[1;34m\"\\n\"\u001b[0m\u001b[1;33m)\u001b[0m\u001b[1;33m\u001b[0m\u001b[1;33m\u001b[0m\u001b[0m\n",
      "\u001b[1;31mIndexError\u001b[0m: list index out of range"
     ]
    }
   ],
   "source": [
    "default_namespace = \"MAX17843\"\n",
    "table_namespace = \"registers_table\"\n",
    "namespace = f\"{default_namespace}::{table_namespace}\"\n",
    "with open(\"MAX17843.h\", \"w\") as BMS_lib:\n",
    "    BMS_lib.write(f\"namespace {namespace}\")\n",
    "    BMS_lib.write(\"{\\n\")\n",
    "    for index, row in registers_map.iterrows():\n",
    "        BMS_lib.write(f\"#define {row['NAME']}_ADDR {row['ADDRESS']} //{row['DESCRIPTION']} address\\n\")\n",
    "        \n",
    "        if row[\"NAME\"].find(\"CELL\") == -1:\n",
    "            table_namespace = row[\"NAME\"]\n",
    "            namespace = f\"{default_namespace}::{table_namespace}\"\n",
    "            BMS_lib.write(\"{\\n\")\n",
    "            for _, bit_row in registers_bit[index].iterrows():\n",
    "                BMS_lib.write(f\"#define {bit_row['NAME'].split('[')[0]}_BIT VERSION[{int(bit_row['BIT'].replace('D', '')) - int(bit_row['NAME'].split('[')[1].split(':')[0])}] //{bit_row['DESCRIPTION']}\\n\")\n",
    "                BMS_lib.write(f\"#define {bit_row['NAME'].split('[')[0]}_LENGTH {int(bit_row['NAME'].split('[')[1].split(':')[0])}\")\n",
    "                BMS_lib.write(\"\\n\")\n",
    "            BMS_lib.write(\"}\")\n",
    "            BMS_lib.write(\"\\n\")\n",
    "        else:\n",
    "            index = index - 1\n",
    "    BMS_lib.write(\"}\\n\")\n"
   ]
  },
  {
   "cell_type": "code",
   "execution_count": null,
   "metadata": {},
   "outputs": [
    {
     "data": {
      "text/html": [
       "<div>\n",
       "<style scoped>\n",
       "    .dataframe tbody tr th:only-of-type {\n",
       "        vertical-align: middle;\n",
       "    }\n",
       "\n",
       "    .dataframe tbody tr th {\n",
       "        vertical-align: top;\n",
       "    }\n",
       "\n",
       "    .dataframe thead th {\n",
       "        text-align: right;\n",
       "    }\n",
       "</style>\n",
       "<table border=\"1\" class=\"dataframe\">\n",
       "  <thead>\n",
       "    <tr style=\"text-align: right;\">\n",
       "      <th></th>\n",
       "      <th>BIT</th>\n",
       "      <th>POR</th>\n",
       "      <th>NAME</th>\n",
       "      <th>DESCRIPTION</th>\n",
       "    </tr>\n",
       "  </thead>\n",
       "  <tbody>\n",
       "    <tr>\n",
       "      <th>0</th>\n",
       "      <td>D15</td>\n",
       "      <td>843h</td>\n",
       "      <td>MOD[11:0]</td>\n",
       "      <td>Model number. Always reads 843h.</td>\n",
       "    </tr>\n",
       "    <tr>\n",
       "      <th>12</th>\n",
       "      <td>D3</td>\n",
       "      <td>1h</td>\n",
       "      <td>VER[3:0]</td>\n",
       "      <td>Die version as below:\rMAX17843 = 1h</td>\n",
       "    </tr>\n",
       "  </tbody>\n",
       "</table>\n",
       "</div>"
      ],
      "text/plain": [
       "    BIT   POR       NAME                          DESCRIPTION\n",
       "0   D15  843h  MOD[11:0]     Model number. Always reads 843h.\n",
       "12   D3    1h   VER[3:0]  Die version as below:\n",
       "MAX17843 = 1h"
      ]
     },
     "execution_count": 77,
     "metadata": {},
     "output_type": "execute_result"
    }
   ],
   "source": [
    "table_list = tabula.read_pdf(file1,pages='100')\n",
    "version_register = table_list[1].astype('string')\n",
    "version_register = version_register[version_register[\"NAME\"] != \"<NA>\"]\n",
    "version_register"
   ]
  },
  {
   "cell_type": "code",
   "execution_count": null,
   "metadata": {},
   "outputs": [],
   "source": [
    "table_namespace = \"version\"\n",
    "namespace = f\"{default_namespace}::{table_namespace}\"\n",
    "with open(\"MAX17843.h\", \"a\") as BMS_lib:\n",
    "    BMS_lib.write(f\"namespace {namespace}\")\n",
    "    BMS_lib.write(\"{\\n\")\n",
    "    for _, row in version_register.iterrows():\n",
    "        BMS_lib.write(f\"#define {row['NAME'].split('[')[0]}_BIT VERSION[{int(row['BIT'].replace('D', '')) - int(row['NAME'].split('[')[1].split(':')[0])}] //{row['DESCRIPTION']}\\n\")\n",
    "        BMS_lib.write(f\"#define {row['NAME'].split('[')[0]}_LENGTH {int(row['NAME'].split('[')[1].split(':')[0])}\")\n",
    "        BMS_lib.write(\"\\n\")\n",
    "    BMS_lib.write(\"}\")"
   ]
  }
 ],
 "metadata": {
  "kernelspec": {
   "display_name": "Python 3.9.13 64-bit (microsoft store)",
   "language": "python",
   "name": "python3"
  },
  "language_info": {
   "codemirror_mode": {
    "name": "ipython",
    "version": 3
   },
   "file_extension": ".py",
   "mimetype": "text/x-python",
   "name": "python",
   "nbconvert_exporter": "python",
   "pygments_lexer": "ipython3",
   "version": "3.9.13"
  },
  "orig_nbformat": 4,
  "vscode": {
   "interpreter": {
    "hash": "93ef66e0a10bc5b42b72a7dbb9cb0cbf2e063bd6d8a33b601b79eee8d0d38739"
   }
  }
 },
 "nbformat": 4,
 "nbformat_minor": 2
}
